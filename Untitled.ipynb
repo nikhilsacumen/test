{
 "cells": [
  {
   "cell_type": "code",
   "execution_count": 2,
   "metadata": {},
   "outputs": [
    {
     "ename": "ImportError",
     "evalue": "No module named requests",
     "output_type": "error",
     "traceback": [
      "\u001b[0;31m---------------------------------------------------------------------------\u001b[0m",
      "\u001b[0;31mImportError\u001b[0m                               Traceback (most recent call last)",
      "\u001b[0;32m<ipython-input-2-95039fbd75c1>\u001b[0m in \u001b[0;36m<module>\u001b[0;34m()\u001b[0m\n\u001b[0;32m----> 1\u001b[0;31m \u001b[0;32mimport\u001b[0m \u001b[0mrequests\u001b[0m\u001b[0;34m\u001b[0m\u001b[0;34m\u001b[0m\u001b[0m\n\u001b[0m",
      "\u001b[0;31mImportError\u001b[0m: No module named requests"
     ]
    }
   ],
   "source": [
    "import requests"
   ]
  },
  {
   "cell_type": "code",
   "execution_count": 3,
   "metadata": {},
   "outputs": [
    {
     "name": "stdout",
     "output_type": "stream",
     "text": [
      "Collecting requests\n",
      "\u001b[33m  Cache entry deserialization failed, entry ignored\u001b[0m\n",
      "\u001b[33m  Cache entry deserialization failed, entry ignored\u001b[0m\n",
      "  Downloading https://files.pythonhosted.org/packages/51/bd/23c926cd341ea6b7dd0b2a00aba99ae0f828be89d72b2190f27c11d4b7fb/requests-2.22.0-py2.py3-none-any.whl (57kB)\n",
      "\u001b[K    100% |████████████████████████████████| 61kB 196kB/s ta 0:00:01\n",
      "\u001b[?25hCollecting urllib3!=1.25.0,!=1.25.1,<1.26,>=1.21.1 (from requests)\n",
      "\u001b[33m  Cache entry deserialization failed, entry ignored\u001b[0m\n",
      "\u001b[33m  Cache entry deserialization failed, entry ignored\u001b[0m\n",
      "  Downloading https://files.pythonhosted.org/packages/e0/da/55f51ea951e1b7c63a579c09dd7db825bb730ec1fe9c0180fc77bfb31448/urllib3-1.25.6-py2.py3-none-any.whl (125kB)\n",
      "\u001b[K    100% |████████████████████████████████| 133kB 559kB/s ta 0:00:01\n",
      "\u001b[?25hCollecting certifi>=2017.4.17 (from requests)\n",
      "\u001b[33m  Cache entry deserialization failed, entry ignored\u001b[0m\n",
      "\u001b[33m  Cache entry deserialization failed, entry ignored\u001b[0m\n",
      "  Downloading https://files.pythonhosted.org/packages/18/b0/8146a4f8dd402f60744fa380bc73ca47303cccf8b9190fd16a827281eac2/certifi-2019.9.11-py2.py3-none-any.whl (154kB)\n",
      "\u001b[K    100% |████████████████████████████████| 163kB 1.6MB/s ta 0:00:01\n",
      "\u001b[?25hCollecting chardet<3.1.0,>=3.0.2 (from requests)\n",
      "\u001b[33m  Cache entry deserialization failed, entry ignored\u001b[0m\n",
      "\u001b[33m  Cache entry deserialization failed, entry ignored\u001b[0m\n",
      "  Downloading https://files.pythonhosted.org/packages/bc/a9/01ffebfb562e4274b6487b4bb1ddec7ca55ec7510b22e4c51f14098443b8/chardet-3.0.4-py2.py3-none-any.whl (133kB)\n",
      "\u001b[K    100% |████████████████████████████████| 143kB 1.6MB/s ta 0:00:01\n",
      "\u001b[?25hCollecting idna<2.9,>=2.5 (from requests)\n",
      "\u001b[33m  Cache entry deserialization failed, entry ignored\u001b[0m\n",
      "\u001b[33m  Cache entry deserialization failed, entry ignored\u001b[0m\n",
      "  Downloading https://files.pythonhosted.org/packages/14/2c/cd551d81dbe15200be1cf41cd03869a46fe7226e7450af7a6545bfc474c9/idna-2.8-py2.py3-none-any.whl (58kB)\n",
      "\u001b[K    100% |████████████████████████████████| 61kB 1.8MB/s ta 0:00:01\n",
      "\u001b[?25hInstalling collected packages: urllib3, certifi, chardet, idna, requests\n",
      "Successfully installed certifi-2019.9.11 chardet-3.0.4 idna-2.8 requests-2.22.0 urllib3-1.25.6\n"
     ]
    }
   ],
   "source": [
    "!pip install requests"
   ]
  },
  {
   "cell_type": "code",
   "execution_count": 5,
   "metadata": {},
   "outputs": [],
   "source": [
    "import requests"
   ]
  },
  {
   "cell_type": "code",
   "execution_count": 6,
   "metadata": {},
   "outputs": [
    {
     "data": {
      "text/plain": [
       "['ConnectTimeout',\n",
       " 'ConnectionError',\n",
       " 'DependencyWarning',\n",
       " 'FileModeWarning',\n",
       " 'HTTPError',\n",
       " 'NullHandler',\n",
       " 'PreparedRequest',\n",
       " 'ReadTimeout',\n",
       " 'Request',\n",
       " 'RequestException',\n",
       " 'RequestsDependencyWarning',\n",
       " 'Response',\n",
       " 'Session',\n",
       " 'Timeout',\n",
       " 'TooManyRedirects',\n",
       " 'URLRequired',\n",
       " '__author__',\n",
       " '__author_email__',\n",
       " '__build__',\n",
       " '__builtins__',\n",
       " '__cake__',\n",
       " '__copyright__',\n",
       " '__description__',\n",
       " '__doc__',\n",
       " '__file__',\n",
       " '__license__',\n",
       " '__name__',\n",
       " '__package__',\n",
       " '__path__',\n",
       " '__title__',\n",
       " '__url__',\n",
       " '__version__',\n",
       " '_check_cryptography',\n",
       " '_internal_utils',\n",
       " 'adapters',\n",
       " 'api',\n",
       " 'auth',\n",
       " 'certs',\n",
       " 'chardet',\n",
       " 'check_compatibility',\n",
       " 'codes',\n",
       " 'compat',\n",
       " 'cookies',\n",
       " 'delete',\n",
       " 'exceptions',\n",
       " 'get',\n",
       " 'head',\n",
       " 'hooks',\n",
       " 'logging',\n",
       " 'models',\n",
       " 'options',\n",
       " 'packages',\n",
       " 'patch',\n",
       " 'post',\n",
       " 'put',\n",
       " 'request',\n",
       " 'session',\n",
       " 'sessions',\n",
       " 'status_codes',\n",
       " 'structures',\n",
       " 'urllib3',\n",
       " 'utils',\n",
       " 'warnings']"
      ]
     },
     "execution_count": 6,
     "metadata": {},
     "output_type": "execute_result"
    }
   ],
   "source": [
    "dir(requests)"
   ]
  },
  {
   "cell_type": "code",
   "execution_count": 21,
   "metadata": {},
   "outputs": [],
   "source": [
    "url = \"http://dummy.restapiexample.com/api/v1/employees\"\n",
    "data  =  requests.get(url)"
   ]
  },
  {
   "cell_type": "code",
   "execution_count": 22,
   "metadata": {},
   "outputs": [
    {
     "data": {
      "text/plain": [
       "<Response [406]>"
      ]
     },
     "execution_count": 22,
     "metadata": {},
     "output_type": "execute_result"
    }
   ],
   "source": [
    "data"
   ]
  },
  {
   "cell_type": "code",
   "execution_count": 23,
   "metadata": {},
   "outputs": [
    {
     "data": {
      "text/plain": [
       "406"
      ]
     },
     "execution_count": 23,
     "metadata": {},
     "output_type": "execute_result"
    }
   ],
   "source": [
    "data.status_code"
   ]
  },
  {
   "cell_type": "code",
   "execution_count": 20,
   "metadata": {},
   "outputs": [
    {
     "data": {
      "text/plain": [
       "{'Content-Length': '8261', 'Expires': 'Sun, 10 Nov 2019 07:43:19 GMT', 'X-shard': '', 'X-VCache': 'Miss', 'Content-Encoding': 'gzip', 'Set-Cookie': 'ezoadgid_133674=-1; Path=/; Domain=restapiexample.com; Expires=Mon, 11 Nov 2019 08:13:19 UTC, ezoref_133674=; Path=/; Domain=restapiexample.com; Expires=Mon, 11 Nov 2019 09:43:19 UTC, ezoab_133674=mod57-c; Path=/; Domain=restapiexample.com; Expires=Mon, 11 Nov 2019 09:43:19 UTC, active_template::133674=pub_site.1573458199; Path=/; Domain=restapiexample.com; Expires=Wed, 13 Nov 2019 07:43:19 UTC, ezCMPCCS=true; Path=/; Domain=restapiexample.com; Expires=Wed, 11 Nov 2020 07:43:19 GMT', 'Age': '0', 'PageSpeed': 'off', 'Vary': 'User-Agent,Accept-Encoding,X-APP-JSON', 'X-Varnish': '421749972', 'Server': 'nginx/1.16.0', 'X-Sol': 'pub_site', 'Connection': 'keep-alive', 'X-Middleton-Response': '406', 'Via': '1.1 varnish (Varnish/6.0), HTTP/1.1 forward.http.proxy:3128', 'Date': 'Mon, 11 Nov 2019 07:43:19 GMT', 'Content-Type': 'text/html; charset=iso-8859-1', 'Response': '406', 'X-Ezoic-Cdn': 'Miss'}"
      ]
     },
     "execution_count": 20,
     "metadata": {},
     "output_type": "execute_result"
    }
   ],
   "source": [
    "data.headers"
   ]
  },
  {
   "cell_type": "code",
   "execution_count": 25,
   "metadata": {},
   "outputs": [
    {
     "ename": "SyntaxError",
     "evalue": "invalid syntax (<ipython-input-25-47bf11f1f45d>, line 2)",
     "output_type": "error",
     "traceback": [
      "\u001b[0;36m  File \u001b[0;32m\"<ipython-input-25-47bf11f1f45d>\"\u001b[0;36m, line \u001b[0;32m2\u001b[0m\n\u001b[0;31m    = json.loads([{\"code\": null, \"currentSeason\": {\"startDate\": \"2015-10-07\", \"currentMatchday\": 6, \"winner\": null, \"id\": 7, \"endDate\": \"2017-11-14\"}, \"name\": \"WC Qualification\", \"emblemUrl\": null, \"area\": {\"name\": \"Africa\", \"id\": 2001}, \"numberOfAvailableSeasons\": 1, \"plan\": \"TIER_FOUR\", \"id\": 2006, \"lastUpdated\": \"2018-06-04T23:54:04Z\"}, {\"code\": \"ASL\", \"currentSeason\": {\"startDate\": \"2019-07-27\", \"currentMatchday\": 13, \"winner\": null, \"id\": 539, \"endDate\": \"2020-03-01\"}, \"name\": \"Superliga Argentina\", \"emblemUrl\": null, \"area\": {\"name\": \"Argentina\", \"id\": 2011}, \"numberOfAvailableSeasons\": 3, \"plan\": \"TIER_TWO\", \"id\": 2024, \"lastUpdated\": \"2019-11-11T21:55:01Z\"}, {\"code\": null, \"currentSeason\": {\"startDate\": \"2019-04-04\", \"currentMatchday\": null, \"winner\": null, \"id\": 430, \"endDate\": \"2019-04-04\"}, \"name\": \"Supercopa Argentina\", \"emblemUrl\": null, \"area\": {\"name\": \"Argentina\", \"id\": 2011}, \"numberOfAvailableSeasons\": 2, \"plan\": \"TIER_FOUR\", \"id\": 2025, \"lastUpdated\": \"2019-05-03T05:08:18Z\"}, {\"code\": null, \"currentSeason\": {\"startDate\": \"2019-08-16\", \"currentMatchday\": 12, \"winner\": null, \"id\": 547, \"endDate\": \"2020-06-14\"}, \"name\": \"Primera B Nacional\", \"emblemUrl\": null, \"area\": {\"name\": \"Argentina\", \"id\": 2011}, \"numberOfAvailableSeasons\": 3, \"plan\": \"TIER_FOUR\", \"id\": 2023, \"lastUpdated\": \"2019-11-12T01:15:00Z\"}]]\u001b[0m\n\u001b[0m    ^\u001b[0m\n\u001b[0;31mSyntaxError\u001b[0m\u001b[0;31m:\u001b[0m invalid syntax\n"
     ]
    }
   ],
   "source": [
    "import json\n",
    "= json.loads([{\"code\": null, \"currentSeason\": {\"startDate\": \"2015-10-07\", \"currentMatchday\": 6, \"winner\": null, \"id\": 7, \"endDate\": \"2017-11-14\"}, \"name\": \"WC Qualification\", \"emblemUrl\": null, \"area\": {\"name\": \"Africa\", \"id\": 2001}, \"numberOfAvailableSeasons\": 1, \"plan\": \"TIER_FOUR\", \"id\": 2006, \"lastUpdated\": \"2018-06-04T23:54:04Z\"}, {\"code\": \"ASL\", \"currentSeason\": {\"startDate\": \"2019-07-27\", \"currentMatchday\": 13, \"winner\": null, \"id\": 539, \"endDate\": \"2020-03-01\"}, \"name\": \"Superliga Argentina\", \"emblemUrl\": null, \"area\": {\"name\": \"Argentina\", \"id\": 2011}, \"numberOfAvailableSeasons\": 3, \"plan\": \"TIER_TWO\", \"id\": 2024, \"lastUpdated\": \"2019-11-11T21:55:01Z\"}, {\"code\": null, \"currentSeason\": {\"startDate\": \"2019-04-04\", \"currentMatchday\": null, \"winner\": null, \"id\": 430, \"endDate\": \"2019-04-04\"}, \"name\": \"Supercopa Argentina\", \"emblemUrl\": null, \"area\": {\"name\": \"Argentina\", \"id\": 2011}, \"numberOfAvailableSeasons\": 2, \"plan\": \"TIER_FOUR\", \"id\": 2025, \"lastUpdated\": \"2019-05-03T05:08:18Z\"}, {\"code\": null, \"currentSeason\": {\"startDate\": \"2019-08-16\", \"currentMatchday\": 12, \"winner\": null, \"id\": 547, \"endDate\": \"2020-06-14\"}, \"name\": \"Primera B Nacional\", \"emblemUrl\": null, \"area\": {\"name\": \"Argentina\", \"id\": 2011}, \"numberOfAvailableSeasons\": 3, \"plan\": \"TIER_FOUR\", \"id\": 2023, \"lastUpdated\": \"2019-11-12T01:15:00Z\"}]]"
   ]
  },
  {
   "cell_type": "code",
   "execution_count": null,
   "metadata": {},
   "outputs": [],
   "source": []
  }
 ],
 "metadata": {
  "kernelspec": {
   "display_name": "Python 2",
   "language": "python",
   "name": "python2"
  },
  "language_info": {
   "codemirror_mode": {
    "name": "ipython",
    "version": 2
   },
   "file_extension": ".py",
   "mimetype": "text/x-python",
   "name": "python",
   "nbconvert_exporter": "python",
   "pygments_lexer": "ipython2",
   "version": "2.7.15+"
  }
 },
 "nbformat": 4,
 "nbformat_minor": 2
}
